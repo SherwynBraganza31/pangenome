{
 "cells": [
  {
   "cell_type": "code",
   "outputs": [],
   "source": [
    "import json\n",
    "import pandas as pd\n",
    "import numpy as np\n",
    "import matplotlib\n",
    "import os"
   ],
   "metadata": {
    "collapsed": false,
    "ExecuteTime": {
     "end_time": "2024-03-29T16:30:10.002948Z",
     "start_time": "2024-03-29T16:30:08.382775Z"
    }
   },
   "id": "a6edff0385dce3b8",
   "execution_count": 1
  },
  {
   "cell_type": "code",
   "outputs": [],
   "source": [
    "source_dir = \"/Users/7408588/Documents/School.nosync/projects/171genomes/ncbi_dataset/data/\""
   ],
   "metadata": {
    "collapsed": false,
    "ExecuteTime": {
     "end_time": "2024-03-29T16:32:05.866849Z",
     "start_time": "2024-03-29T16:32:05.864210Z"
    }
   },
   "id": "f39637f3dac20de3",
   "execution_count": 3
  },
  {
   "cell_type": "code",
   "outputs": [],
   "source": [
    "checkM_cutoff = 99.5\n",
    "busco_cutoff = 95\n",
    "\n",
    "df = pd.read_csv(source_dir + 'modded_data_summary.csv')\n",
    "        curated_genome_frame = df[((df['Level'].isin(['Complete Genome', 'Chromosome']))\n",
    "                                        | (df['CheckM Score'] > checkM_cutoff) & (df['BUSCO'] > busco_cutoff))]\n",
    "\n",
    "        linking_dict = dict(zip((df['Assembly Accession'].values.tolist(),\n",
    "                                 list(np.zeros(curated_genome_frame.shape[0])))))\n",
    "\n",
    "        def fill_linking_dict():\n",
    "            \"\"\"\n",
    "            Generates a mapping between the accession id and the name of the organism\n",
    "\n",
    "            Args:\n",
    "                linking_dict: Mapping between accession id and org name\n",
    "                source: The source folder that contains the accessions\n",
    "\n",
    "            Returns:\n",
    "                None\n",
    "            \"\"\"\n",
    "            with open(self.source_dir + 'assembly_data_report.json') as ifile:\n",
    "                jsonlist = json.load(ifile)\n",
    "\n",
    "            for x in jsonlist:\n",
    "                accession = x['accession']\n",
    "                orgname = str.split(x['organism']['organismName'], sep=' ')\n",
    "                strain = x['organism']['infraspecificNames']['strain']\n",
    "\n",
    "                try:\n",
    "                    orgname.remove(strain)\n",
    "                except ValueError:\n",
    "                    pass\n",
    "\n",
    "                genus = orgname[0]\n",
    "                species = orgname[1][:-1] if orgname[-1] == '.' else orgname\n",
    "\n",
    "                fullname = genus + '_' +  species + '_' + strain\n",
    "\n",
    "                while fullname[-1] == '_':\n",
    "                    fullname = fullname[:-1]\n",
    "\n",
    "                linking_dict.update({accession: fullname})\n",
    "\n",
    "        fill_linking_dict()\n",
    "        uniques = np.unique(linking_dict.values(), return_counts=True, return_index=True)\n",
    "\n",
    "        with open(source_dir + 'curated_genome_list.json', 'w') as ofile:\n",
    "            json.dump(linking_dict)"
   ],
   "metadata": {
    "collapsed": false
   },
   "id": "53ccddfb1b131382"
  }
 ],
 "metadata": {
  "kernelspec": {
   "display_name": "Python 3",
   "language": "python",
   "name": "python3"
  },
  "language_info": {
   "codemirror_mode": {
    "name": "ipython",
    "version": 2
   },
   "file_extension": ".py",
   "mimetype": "text/x-python",
   "name": "python",
   "nbconvert_exporter": "python",
   "pygments_lexer": "ipython2",
   "version": "2.7.6"
  }
 },
 "nbformat": 4,
 "nbformat_minor": 5
}
